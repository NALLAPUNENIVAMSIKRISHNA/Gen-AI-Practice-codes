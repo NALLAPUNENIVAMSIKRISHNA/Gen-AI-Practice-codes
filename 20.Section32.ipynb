{
 "cells": [
  {
   "cell_type": "raw",
   "id": "eb9d0599-ed47-4d26-8311-c83e5db494de",
   "metadata": {},
   "source": [
    "Search Engine with tools and agents\n",
    "https://python.langchain.com/docs/integrations/tools/\n",
    "https://python.langchain.com/v0.1/docs/modules/agents/\n",
    "\n",
    "code is in Langchain -> 5-Search Engine -> tools_agents.ipynb\n"
   ]
  }
 ],
 "metadata": {
  "kernelspec": {
   "display_name": "Python 3 (ipykernel)",
   "language": "python",
   "name": "python3"
  },
  "language_info": {
   "codemirror_mode": {
    "name": "ipython",
    "version": 3
   },
   "file_extension": ".py",
   "mimetype": "text/x-python",
   "name": "python",
   "nbconvert_exporter": "python",
   "pygments_lexer": "ipython3",
   "version": "3.12.7"
  }
 },
 "nbformat": 4,
 "nbformat_minor": 5
}
