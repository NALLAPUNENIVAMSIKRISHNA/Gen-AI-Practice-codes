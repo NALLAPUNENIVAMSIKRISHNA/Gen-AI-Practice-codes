{
 "cells": [
  {
   "cell_type": "markdown",
   "metadata": {},
   "source": [
    "Steps followed to solve problem like Sentiment Analysis\n",
    "\n",
    "1)DATASET\n",
    "2)Text Preprocessing-1  \n",
    "        -Tokenization\n",
    "        -Lower case the words\n",
    "        -Regular expression\n",
    "3)Text Preprocessing-2\n",
    "        -Stemming\n",
    "        -Lemmatization\n",
    "        -Stopwords\n",
    "4)Text to vectors\n",
    "        -One Hot Encoded (No one is currently using for text data)\n",
    "        -Bag of words (BOW)\n",
    "        -TFIDF (To convert text into vectors)\n",
    "        -Word2Vec (Genism)\n",
    "        -Avg Word2Vec\n",
    "5)ML Or DL Algorithms"
   ]
  }
 ],
 "metadata": {
  "kernelspec": {
   "display_name": "Python 3",
   "language": "python",
   "name": "python3"
  },
  "language_info": {
   "codemirror_mode": {
    "name": "ipython",
    "version": 3
   },
   "file_extension": ".py",
   "mimetype": "text/x-python",
   "name": "python",
   "nbconvert_exporter": "python",
   "pygments_lexer": "ipython3",
   "version": "3.8.5"
  }
 },
 "nbformat": 4,
 "nbformat_minor": 4
}
