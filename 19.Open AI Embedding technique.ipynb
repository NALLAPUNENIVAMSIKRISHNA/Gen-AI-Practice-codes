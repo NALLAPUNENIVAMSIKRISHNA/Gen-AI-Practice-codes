{
 "cells": [
  {
   "cell_type": "raw",
   "id": "517b0570-91e3-41fd-8438-d6fdfad77968",
   "metadata": {},
   "source": [
    "# 3.4-embeddings - open ai embeddings\n",
    "section - 24"
   ]
  },
  {
   "cell_type": "raw",
   "id": "d0ca7890-080a-4182-a486-8ef8f5394735",
   "metadata": {},
   "source": [
    "Need to write "
   ]
  },
  {
   "cell_type": "raw",
   "id": "99a2a50e-a7fb-4a74-8f30-24662d70aa00",
   "metadata": {},
   "source": [
    "Now in section 32 "
   ]
  }
 ],
 "metadata": {
  "kernelspec": {
   "display_name": "Python 3 (ipykernel)",
   "language": "python",
   "name": "python3"
  },
  "language_info": {
   "codemirror_mode": {
    "name": "ipython",
    "version": 3
   },
   "file_extension": ".py",
   "mimetype": "text/x-python",
   "name": "python",
   "nbconvert_exporter": "python",
   "pygments_lexer": "ipython3",
   "version": "3.12.7"
  }
 },
 "nbformat": 4,
 "nbformat_minor": 5
}
