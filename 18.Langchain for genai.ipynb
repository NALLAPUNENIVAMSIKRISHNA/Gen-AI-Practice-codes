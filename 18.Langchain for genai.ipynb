{
 "cells": [
  {
   "cell_type": "raw",
   "id": "747c9cb1-facf-4836-a076-c12b88e40bb6",
   "metadata": {},
   "source": [
    "Langchain is a framework to develop gen ai app\n",
    "\n",
    "https://drive.google.com/file/d/1Ik0Q2eXsx0q1qO7Vv-ap_Ktbr_B7kMYH/view?usp=sharing\n",
    "\n",
    "Gen ai app -> how can i do activites which work with LLMOPS (debugging evaluation,monitoring) called langsmith(it is having these all)\n",
    "Langserve create chain as rest api                                        |\n",
    "                                                                      Deploy -> API'S\n",
    "                                                                         |\n",
    "                                                                        AWS\n",
    "\n",
    "In vs code projects - Langchain"
   ]
  },
  {
   "cell_type": "raw",
   "id": "d58c4e69-d2b5-486b-99f3-f8739853c242",
   "metadata": {},
   "source": [
    "        Important concepts of Langchain\n",
    "https://python.langchain.com/v0.2/docs/introduction/\n",
    "https://python.langchain.com/v0.2/docs/integrations/document_loaders/\n",
    "\n",
    "1.RAG :- Retrival augumented generation\n",
    "You have a datasource -> pdf files\n",
    "you want to make these pdf's as a document q&a application\n",
    "Gen ai app -> user ask any query -> from this pdf we want to get response\n",
    "\n",
    "LLM Models -> Limitation context size(step 2 down side)\n",
    "\n",
    "Data source(Load) or Data injection -> Data transformation technique (Split data into smaller chunks) -> Embedding take entire text and convert into vectors -> Vector store DB as faiss,cmoroma db, astra db (Store) when we query in db we get context information based on similarty search\n",
    "\n",
    "Question  -> [ search ]  ->  Prompt   -> LLM -> Answer -> O/p response\n",
    "             Retrive chain  Ai assistant\n",
    "                |                |\n",
    "            Interface       Current info\n",
    "                |\n",
    "            View store DB\n"
   ]
  },
  {
   "cell_type": "code",
   "execution_count": null,
   "id": "b67dfa97-ab76-406e-808a-fdeb2f2f2458",
   "metadata": {},
   "outputs": [],
   "source": []
  },
  {
   "cell_type": "code",
   "execution_count": null,
   "id": "f9c723bb-573b-4a3a-ae5f-8995f7e82a2e",
   "metadata": {},
   "outputs": [],
   "source": []
  },
  {
   "cell_type": "code",
   "execution_count": null,
   "id": "77d8be2e-06a6-4192-812d-91c01f00fff8",
   "metadata": {},
   "outputs": [],
   "source": []
  },
  {
   "cell_type": "code",
   "execution_count": null,
   "id": "b75034fc-0144-4ede-b098-878492b74cd2",
   "metadata": {},
   "outputs": [],
   "source": []
  },
  {
   "cell_type": "code",
   "execution_count": null,
   "id": "bd64284b-1893-4ee3-9f00-84c5992cd407",
   "metadata": {},
   "outputs": [],
   "source": []
  },
  {
   "cell_type": "code",
   "execution_count": null,
   "id": "a7e042f9-ef90-4717-9972-d13c9f5a7609",
   "metadata": {},
   "outputs": [],
   "source": []
  }
 ],
 "metadata": {
  "kernelspec": {
   "display_name": "Python 3 (ipykernel)",
   "language": "python",
   "name": "python3"
  },
  "language_info": {
   "codemirror_mode": {
    "name": "ipython",
    "version": 3
   },
   "file_extension": ".py",
   "mimetype": "text/x-python",
   "name": "python",
   "nbconvert_exporter": "python",
   "pygments_lexer": "ipython3",
   "version": "3.12.7"
  }
 },
 "nbformat": 4,
 "nbformat_minor": 5
}
