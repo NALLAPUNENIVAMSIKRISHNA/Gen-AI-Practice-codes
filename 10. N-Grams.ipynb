{
 "cells": [
  {
   "cell_type": "markdown",
   "metadata": {},
   "source": [
    "N grams ex:- Bigrams(comb of 2 words), Trigrams(comb of 3 words)\n",
    "\n",
    "s1-> The food is good\n",
    "s2-> The food is not good\n",
    "\n",
    "The,is are stop words\n",
    "\n",
    "food   not  good\n",
    " 1      0    1\n",
    " 1      1    1\n",
    " \n",
    " Bigram\n",
    " \n",
    "     [food  not  good  foodgood  foodnot  notgood]\n",
    " s1  1       0    1       1         0       0\n",
    " s2  1       1    1       0         1       1\n",
    " \n",
    " Skleran -N-Grams\n",
    " Unigrams(1,1)\n",
    " Unigrm,Bigram(1,2)\n",
    " Unigram,Bigram,Trigram(1,3)\n",
    " Bigram,Trigram(2,3)"
   ]
  },
  {
   "cell_type": "markdown",
   "metadata": {},
   "source": [
    "Code is in 9.Bag of words"
   ]
  }
 ],
 "metadata": {
  "kernelspec": {
   "display_name": "Python 3",
   "language": "python",
   "name": "python3"
  },
  "language_info": {
   "codemirror_mode": {
    "name": "ipython",
    "version": 3
   },
   "file_extension": ".py",
   "mimetype": "text/x-python",
   "name": "python",
   "nbconvert_exporter": "python",
   "pygments_lexer": "ipython3",
   "version": "3.8.5"
  }
 },
 "nbformat": 4,
 "nbformat_minor": 4
}
