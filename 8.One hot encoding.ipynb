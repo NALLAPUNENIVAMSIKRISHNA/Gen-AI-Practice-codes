{
 "cells": [
  {
   "cell_type": "markdown",
   "metadata": {},
   "source": [
    "                Text                  o/p\n",
    " D1             The food is good      1\n",
    " D2             The food is bad       0\n",
    " D3             Pizza is amazing      1\n",
    " \n",
    " Vocabluary Size =7\n",
    " \n",
    " Vocablulary(Unique words)\n",
    " \n",
    " The food is good bad pizza amazing\n",
    " 1    0    0  0    0   0      0\n",
    " 0    1    0  0    0   0      0\n",
    " \n",
    " \n",
    " \n",
    " D1[[1 0 0 0 0 0 0],\n",
    "    [0 1 0 0 0 0 0],\n",
    "    [0 0 1 0 0 0 0],\n",
    "    [0 0 0 1 0 0 0]]\n",
    "    \n",
    "    D1=4*7\n",
    "    \n",
    " D2[[1 0 0 0 0 0 0],\n",
    "    [0 1 0 0 0 0 0],\n",
    "    [0 0 1 0 0 0 0],\n",
    "    [0 0 0 0 1 0 0]]\n",
    "    \n",
    "    D2=4*7\n",
    "    \n",
    " D3[[0 0 0 0 0 1 0],\n",
    "    [0 0 1 0 0 0 0],\n",
    "    [0 0 0 0 0 0 1]]\n",
    "    \n",
    "    D3=3*7\n",
    "    \n",
    " Advantages and Disadvantages of OHE:\n",
    " \n",
    " Advantages:-\n",
    " \n",
    " -Easy to implement with python[Sklearn,one hot encoder,pd.get_dummies]\n",
    " \n",
    " Disadvantages:- \n",
    " \n",
    " -Sparse matrix (if 50k vocabularys then many 1's and 0's)-> Overfitting(Good accuracy with training but new data no crct         accuracy)\n",
    " -Ml algorithms we need fixed size(I/P)\n",
    " -No semantic meaning is getting captured(test case as food,pizza,burger & Distances might be equal in vector representation,     distance is same when we use cosine similarity)\n",
    " -Out of vocabulary(if we got test as Burger is bad we r not able to solve that)"
   ]
  }
 ],
 "metadata": {
  "kernelspec": {
   "display_name": "Python 3",
   "language": "python",
   "name": "python3"
  },
  "language_info": {
   "codemirror_mode": {
    "name": "ipython",
    "version": 3
   },
   "file_extension": ".py",
   "mimetype": "text/x-python",
   "name": "python",
   "nbconvert_exporter": "python",
   "pygments_lexer": "ipython3",
   "version": "3.8.5"
  }
 },
 "nbformat": 4,
 "nbformat_minor": 4
}
